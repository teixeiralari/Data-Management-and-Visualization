{
 "cells": [
  {
   "cell_type": "markdown",
   "metadata": {},
   "source": [
    "# Developing a Research Question and Creating a Personal Code Book"
   ]
  },
  {
   "cell_type": "markdown",
   "metadata": {},
   "source": [
    "## About the dataset"
   ]
  },
  {
   "cell_type": "markdown",
   "metadata": {},
   "source": [
    "After looking through the description of the dataset, I have decided that I am particularly interested in which factor is most important for the candidate get placed on a Jain University Bangalore campus. I am not sure which variables I will use, so for now I will include all of the relevant variables in my personal codebook.\n",
    "\n",
    "The dataset that will be explore in this course is [Campus Recruitment](https://www.kaggle.com/benroshan/factors-affecting-campus-placement?select=Placement_Data_Full_Class.csv)"
   ]
  },
  {
   "cell_type": "markdown",
   "metadata": {},
   "source": [
    "## Research question"
   ]
  },
  {
   "cell_type": "markdown",
   "metadata": {},
   "source": [
    "Which factor influenced a candidate in getting placed?"
   ]
  },
  {
   "cell_type": "markdown",
   "metadata": {},
   "source": [
    "## Codebook with the variables that will be used to answer the research question"
   ]
  },
  {
   "cell_type": "code",
   "execution_count": 2,
   "metadata": {
    "jupyter": {
     "source_hidden": true
    }
   },
   "outputs": [
    {
     "data": {
      "text/html": [
       "<div>\n",
       "<style scoped>\n",
       "    .dataframe tbody tr th:only-of-type {\n",
       "        vertical-align: middle;\n",
       "    }\n",
       "\n",
       "    .dataframe tbody tr th {\n",
       "        vertical-align: top;\n",
       "    }\n",
       "\n",
       "    .dataframe thead th {\n",
       "        text-align: right;\n",
       "    }\n",
       "</style>\n",
       "<table border=\"1\" class=\"dataframe\">\n",
       "  <thead>\n",
       "    <tr style=\"text-align: right;\">\n",
       "      <th></th>\n",
       "      <th>Variable name</th>\n",
       "      <th>Description</th>\n",
       "      <th>type</th>\n",
       "    </tr>\n",
       "  </thead>\n",
       "  <tbody>\n",
       "    <tr>\n",
       "      <th>0</th>\n",
       "      <td>gender</td>\n",
       "      <td>Gender of candidate (Male='M',Female='F')</td>\n",
       "      <td>string</td>\n",
       "    </tr>\n",
       "    <tr>\n",
       "      <th>1</th>\n",
       "      <td>ssc_p</td>\n",
       "      <td>Secondary Education percentage- 10th Grade</td>\n",
       "      <td>float</td>\n",
       "    </tr>\n",
       "    <tr>\n",
       "      <th>2</th>\n",
       "      <td>hsc_p</td>\n",
       "      <td>Higher Secondary Education percentage- 12th Grade</td>\n",
       "      <td>float</td>\n",
       "    </tr>\n",
       "    <tr>\n",
       "      <th>3</th>\n",
       "      <td>hsc_s</td>\n",
       "      <td>Specialization in Higher Secondary Education</td>\n",
       "      <td>string</td>\n",
       "    </tr>\n",
       "    <tr>\n",
       "      <th>4</th>\n",
       "      <td>degree_p</td>\n",
       "      <td>Degree Percentage</td>\n",
       "      <td>float</td>\n",
       "    </tr>\n",
       "    <tr>\n",
       "      <th>5</th>\n",
       "      <td>degree_t</td>\n",
       "      <td>Under Graduation(Degree type)- Field of degree...</td>\n",
       "      <td>string</td>\n",
       "    </tr>\n",
       "    <tr>\n",
       "      <th>6</th>\n",
       "      <td>workex</td>\n",
       "      <td>Work Experience (yesno)</td>\n",
       "      <td>string</td>\n",
       "    </tr>\n",
       "    <tr>\n",
       "      <th>7</th>\n",
       "      <td>specialisation</td>\n",
       "      <td>Post Graduation(MBA)- Specialization</td>\n",
       "      <td>string</td>\n",
       "    </tr>\n",
       "    <tr>\n",
       "      <th>8</th>\n",
       "      <td>mba_p</td>\n",
       "      <td>MBA percentage</td>\n",
       "      <td>float</td>\n",
       "    </tr>\n",
       "    <tr>\n",
       "      <th>9</th>\n",
       "      <td>status</td>\n",
       "      <td>Status of placement- Placed/Not placed</td>\n",
       "      <td>string</td>\n",
       "    </tr>\n",
       "  </tbody>\n",
       "</table>\n",
       "</div>"
      ],
      "text/plain": [
       "    Variable name                                        Description    type\n",
       "0          gender          Gender of candidate (Male='M',Female='F')  string\n",
       "1           ssc_p         Secondary Education percentage- 10th Grade   float\n",
       "2           hsc_p  Higher Secondary Education percentage- 12th Grade   float\n",
       "3           hsc_s       Specialization in Higher Secondary Education  string\n",
       "4        degree_p                                  Degree Percentage   float\n",
       "5        degree_t  Under Graduation(Degree type)- Field of degree...  string\n",
       "6          workex                            Work Experience (yesno)  string\n",
       "7  specialisation               Post Graduation(MBA)- Specialization  string\n",
       "8           mba_p                                     MBA percentage   float\n",
       "9          status             Status of placement- Placed/Not placed  string"
      ]
     },
     "execution_count": 2,
     "metadata": {},
     "output_type": "execute_result"
    }
   ],
   "source": [
    "import pandas as pd\n",
    "pd.read_excel('dataset and codebook/codebook.xlsx')"
   ]
  },
  {
   "cell_type": "markdown",
   "metadata": {},
   "source": [
    "## Literature review"
   ]
  },
  {
   "cell_type": "markdown",
   "metadata": {},
   "source": [
    "After researching about the characteristics that universities look for in candidates, I realized that there are more factors that influence whether or not to get in the university. For example, the ability to work well in groups. But in this project, we will look at "
   ]
  },
  {
   "cell_type": "markdown",
   "metadata": {},
   "source": [
    "## References"
   ]
  },
  {
   "cell_type": "markdown",
   "metadata": {},
   "source": [
    "1. [Oya Tamtekin Aydin, University Choice Process: A Literature Review on Models and Factors Affecting the Process](https://dergipark.org.tr/tr/download/article-file/597231#:~:text=According%20to%20Donaldson%20and%20McNicholas,important%20factors%20influencing%20students'%20choice.)\n",
    "2. [Top 7 qualities universities look for in student applicants](https://www.timeshighereducation.com/student/advice/top-7-qualities-universities-look-student-applicants)"
   ]
  },
  {
   "cell_type": "code",
   "execution_count": null,
   "metadata": {},
   "outputs": [],
   "source": []
  }
 ],
 "metadata": {
  "kernelspec": {
   "display_name": "venv",
   "language": "python",
   "name": "venv"
  },
  "language_info": {
   "codemirror_mode": {
    "name": "ipython",
    "version": 3
   },
   "file_extension": ".py",
   "mimetype": "text/x-python",
   "name": "python",
   "nbconvert_exporter": "python",
   "pygments_lexer": "ipython3",
   "version": "3.6.8"
  }
 },
 "nbformat": 4,
 "nbformat_minor": 4
}
